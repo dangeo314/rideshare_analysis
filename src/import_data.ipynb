{
 "cells": [
  {
   "cell_type": "markdown",
   "source": [
    "# Importing Data\n",
    "This first cell downloads the data and saves it locally as .pkl"
   ],
   "metadata": {
    "collapsed": false,
    "pycharm": {
     "name": "#%% md\n"
    }
   }
  },
  {
   "cell_type": "code",
   "execution_count": 29,
   "metadata": {
    "collapsed": true,
    "pycharm": {
     "name": "#%%\n"
    }
   },
   "outputs": [
    {
     "name": "stdout",
     "output_type": "stream",
     "text": [
      "Downloading took 5.546564817428589s\n",
      "         trip_start_timestamp trip_seconds pickup_community_area  fare tip  \\\n",
      "0     2018-11-01T00:00:00.000          452                     3     5   0   \n",
      "1     2018-11-01T00:00:00.000         1140                    77    10   1   \n",
      "2     2018-11-01T00:00:00.000          837                    23  17.5   0   \n",
      "3     2018-11-01T00:00:00.000          136                    33     5   0   \n",
      "4     2018-11-01T00:00:00.000          838                     8     5   0   \n",
      "...                       ...          ...                   ...   ...  ..   \n",
      "9995  2018-11-01T01:15:00.000          371                     7     5   0   \n",
      "9996  2018-11-01T01:15:00.000         1182                    71  12.5   0   \n",
      "9997  2018-11-01T01:15:00.000          769                    24   7.5   0   \n",
      "9998  2018-11-01T01:15:00.000          905                     6    10   3   \n",
      "9999  2018-11-01T01:15:00.000          961                    24  12.5   0   \n",
      "\n",
      "     additional_charges trip_total  \n",
      "0                   2.5        7.5  \n",
      "1                     0         11  \n",
      "2                   2.8       20.3  \n",
      "3                     0          5  \n",
      "4                   2.5        7.5  \n",
      "...                 ...        ...  \n",
      "9995                2.5        7.5  \n",
      "9996                  0       12.5  \n",
      "9997                2.5         10  \n",
      "9998                2.5       15.5  \n",
      "9999                2.5         15  \n",
      "\n",
      "[10000 rows x 7 columns]\n",
      "<class 'pandas.core.frame.DataFrame'>\n",
      "RangeIndex: 10000 entries, 0 to 9999\n",
      "Data columns (total 7 columns):\n",
      " #   Column                 Non-Null Count  Dtype \n",
      "---  ------                 --------------  ----- \n",
      " 0   trip_start_timestamp   10000 non-null  object\n",
      " 1   trip_seconds           10000 non-null  object\n",
      " 2   pickup_community_area  10000 non-null  object\n",
      " 3   fare                   10000 non-null  object\n",
      " 4   tip                    10000 non-null  object\n",
      " 5   additional_charges     10000 non-null  object\n",
      " 6   trip_total             10000 non-null  object\n",
      "dtypes: object(7)\n",
      "memory usage: 4.2 MB\n",
      "None\n"
     ]
    }
   ],
   "source": [
    "import pandas as pd\n",
    "import time\n",
    "from sodapy import Socrata\n",
    "\n",
    "client = Socrata(\"data.cityofchicago.org\", \"nslk9McqWq2UZHJwjaCneGvCk\", username=\"d1george@ucsd.edu\", password=\"DGsocrata314!\")\n",
    "\n",
    "client.timeout = 1200\n",
    "columns_selected = \"trip_start_timestamp, trip_end_timestamp, trip_seconds, pickup_census_tract, pickup_community_area, fare, tip, additional_charges, trip_total\"\n",
    "include_conditions = 'trip_start_timestamp<\"2020-03-01T00:00:00.000\"'\n",
    "query = \"\"\"\n",
    "\n",
    "select\n",
    "    trip_start_timestamp,\n",
    "    trip_seconds,\n",
    "    pickup_community_area,\n",
    "    fare, tip,\n",
    "    additional_charges,\n",
    "    trip_total\n",
    "\n",
    "where\n",
    "    trip_start_timestamp<\"2020-03-01T00:00:00.000\"\n",
    "    and pickup_community_area IS NOT NULL\n",
    "order by\n",
    "    trip_start_timestamp ASC\n",
    "    \n",
    "limit\n",
    "    10000\n",
    "\n",
    "\"\"\"\n",
    "start = time.time()\n",
    "results = client.get(\"m6dm-c72p\",query = query)\n",
    "end = time.time()\n",
    "print(\"Downloading took {}s\".format(end-start))"
   ]
  },
  {
   "cell_type": "code",
   "execution_count": 34,
   "outputs": [
    {
     "name": "stdout",
     "output_type": "stream",
     "text": [
      "         trip_start_timestamp trip_seconds pickup_community_area  fare tip  \\\n",
      "0     2018-11-01T00:00:00.000          452                     3     5   0   \n",
      "1     2018-11-01T00:00:00.000         1140                    77    10   1   \n",
      "2     2018-11-01T00:00:00.000          837                    23  17.5   0   \n",
      "3     2018-11-01T00:00:00.000          136                    33     5   0   \n",
      "4     2018-11-01T00:00:00.000          838                     8     5   0   \n",
      "...                       ...          ...                   ...   ...  ..   \n",
      "9995  2018-11-01T01:15:00.000          371                     7     5   0   \n",
      "9996  2018-11-01T01:15:00.000         1182                    71  12.5   0   \n",
      "9997  2018-11-01T01:15:00.000          769                    24   7.5   0   \n",
      "9998  2018-11-01T01:15:00.000          905                     6    10   3   \n",
      "9999  2018-11-01T01:15:00.000          961                    24  12.5   0   \n",
      "\n",
      "     additional_charges trip_total  \n",
      "0                   2.5        7.5  \n",
      "1                     0         11  \n",
      "2                   2.8       20.3  \n",
      "3                     0          5  \n",
      "4                   2.5        7.5  \n",
      "...                 ...        ...  \n",
      "9995                2.5        7.5  \n",
      "9996                  0       12.5  \n",
      "9997                2.5         10  \n",
      "9998                2.5       15.5  \n",
      "9999                2.5         15  \n",
      "\n",
      "[10000 rows x 7 columns]\n",
      "<class 'pandas.core.frame.DataFrame'>\n",
      "RangeIndex: 10000 entries, 0 to 9999\n",
      "Data columns (total 7 columns):\n",
      " #   Column                 Non-Null Count  Dtype  \n",
      "---  ------                 --------------  -----  \n",
      " 0   trip_start_timestamp   10000 non-null  object \n",
      " 1   trip_seconds           10000 non-null  int64  \n",
      " 2   pickup_community_area  10000 non-null  int64  \n",
      " 3   fare                   10000 non-null  float64\n",
      " 4   tip                    10000 non-null  int64  \n",
      " 5   additional_charges     10000 non-null  float64\n",
      " 6   trip_total             10000 non-null  float64\n",
      "dtypes: float64(3), int64(3), object(1)\n",
      "memory usage: 1.2 MB\n",
      "None\n"
     ]
    }
   ],
   "source": [
    "results_df = pd.DataFrame.from_records(results)\n",
    "print (results_df)\n",
    "results_df[[\"trip_seconds\", \"pickup_community_area\", \"fare\", \"tip\", \"additional_charges\", \"trip_total\"]] = \\\n",
    "    results_df[[\"trip_seconds\", \"pickup_community_area\", \"fare\", \"tip\", \"additional_charges\", \"trip_total\"]].apply(pd.to_numeric)\n",
    "print(results_df.info(memory_usage=\"deep\"))\n",
    "results_df.to_pickle(\"../data/data10k.pkl\")\n",
    "\n",
    "\n",
    "\n",
    "\n"
   ],
   "metadata": {
    "collapsed": false,
    "pycharm": {
     "name": "#%%\n"
    }
   }
  }
 ],
 "metadata": {
  "kernelspec": {
   "display_name": "Python 3",
   "language": "python",
   "name": "python3"
  },
  "language_info": {
   "codemirror_mode": {
    "name": "ipython",
    "version": 2
   },
   "file_extension": ".py",
   "mimetype": "text/x-python",
   "name": "python",
   "nbconvert_exporter": "python",
   "pygments_lexer": "ipython2",
   "version": "2.7.6"
  }
 },
 "nbformat": 4,
 "nbformat_minor": 0
}