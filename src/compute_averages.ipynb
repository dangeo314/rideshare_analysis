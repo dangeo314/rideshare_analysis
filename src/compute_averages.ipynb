{
 "cells": [
  {
   "cell_type": "markdown",
   "metadata": {
    "collapsed": true,
    "pycharm": {
     "name": "#%% md\n"
    }
   },
   "source": [
    "# Computes average from saved data"
   ]
  },
  {
   "cell_type": "code",
   "execution_count": 35,
   "outputs": [
    {
     "name": "stdout",
     "output_type": "stream",
     "text": [
      "<class 'pandas.core.frame.DataFrame'>\n",
      "RangeIndex: 10000 entries, 0 to 9999\n",
      "Data columns (total 7 columns):\n",
      " #   Column                 Non-Null Count  Dtype  \n",
      "---  ------                 --------------  -----  \n",
      " 0   trip_start_timestamp   10000 non-null  object \n",
      " 1   trip_seconds           10000 non-null  int64  \n",
      " 2   pickup_community_area  10000 non-null  int64  \n",
      " 3   fare                   10000 non-null  float64\n",
      " 4   tip                    10000 non-null  int64  \n",
      " 5   additional_charges     10000 non-null  float64\n",
      " 6   trip_total             10000 non-null  float64\n",
      "dtypes: float64(3), int64(3), object(1)\n",
      "memory usage: 547.0+ KB\n",
      "None\n",
      "                       trip_seconds       fare       tip  additional_charges  \\\n",
      "pickup_community_area                                                          \n",
      "1                        749.972222   9.004630  0.592593            2.309259   \n",
      "2                        680.913043   7.119565  0.173913            2.450217   \n",
      "3                        769.121528   9.305556  0.618056            2.409618   \n",
      "4                        754.943182   8.437500  0.465909            2.357955   \n",
      "5                        693.860870   7.500000  0.460870            2.250957   \n",
      "...                             ...        ...       ...                 ...   \n",
      "73                      1105.000000  12.857143  0.000000            2.705714   \n",
      "74                       760.647059  11.911765  0.470588            2.561765   \n",
      "75                       751.095238   9.047619  0.000000            2.142857   \n",
      "76                      1586.719008  23.636364  1.107438            7.473430   \n",
      "77                       694.274074   8.000000  0.407407            2.347704   \n",
      "\n",
      "                       trip_total  \n",
      "pickup_community_area              \n",
      "1                       11.906481  \n",
      "2                        9.743696  \n",
      "3                       12.333229  \n",
      "4                       11.261364  \n",
      "5                       10.211826  \n",
      "...                           ...  \n",
      "73                      15.562857  \n",
      "74                      14.944118  \n",
      "75                      11.190476  \n",
      "76                      32.217231  \n",
      "77                      10.755111  \n",
      "\n",
      "[76 rows x 5 columns]\n"
     ]
    }
   ],
   "source": [
    "import pandas as pd\n",
    "import time\n",
    "path = \"../data/data10k.pkl\"\n",
    "data = pd.read_pickle(path);\n",
    "print(data.info())\n",
    "averages = data.groupby('pickup_community_area').mean()\n",
    "print(averages)"
   ],
   "metadata": {
    "collapsed": false,
    "pycharm": {
     "name": "#%%\n"
    }
   }
  },
  {
   "cell_type": "markdown",
   "source": [
    "now we will plot the averages"
   ],
   "metadata": {
    "collapsed": false,
    "pycharm": {
     "name": "#%% md\n"
    }
   }
  },
  {
   "cell_type": "code",
   "execution_count": null,
   "outputs": [],
   "source": [
    "import matplotlib.pyplot as plt\n",
    "\n",
    "%matplotlib inline\n",
    "plt.figure();\n",
    "averages.loc()\n",
    "\n",
    "\n"
   ],
   "metadata": {
    "collapsed": false,
    "pycharm": {
     "name": "#%%\n"
    }
   }
  }
 ],
 "metadata": {
  "kernelspec": {
   "display_name": "Python 3",
   "language": "python",
   "name": "python3"
  },
  "language_info": {
   "codemirror_mode": {
    "name": "ipython",
    "version": 2
   },
   "file_extension": ".py",
   "mimetype": "text/x-python",
   "name": "python",
   "nbconvert_exporter": "python",
   "pygments_lexer": "ipython2",
   "version": "2.7.6"
  }
 },
 "nbformat": 4,
 "nbformat_minor": 0
}